{
 "cells": [
  {
   "cell_type": "code",
   "execution_count": 6,
   "id": "a8b87733-2daf-4ddd-90f3-22c7d74d776d",
   "metadata": {},
   "outputs": [
    {
     "name": "stdout",
     "output_type": "stream",
     "text": [
      "['Hi John, How are you doing ?', 'I will be travelling to your city.', 'Lets Catchup']\n",
      "['Hi', 'John', ',', 'How', 'are', 'you', 'doing', '?', 'I', 'will', 'be', 'travelling', 'to', 'your', 'city', '.', 'Lets', 'Catchup']\n"
     ]
    }
   ],
   "source": [
    "## tokenize\n",
    "from nltk.tokenize import sent_tokenize, word_tokenize\n",
    "text = 'Hi John, How are you doing ? I will be travelling to your city. Lets Catchup'\n",
    "\n",
    "a = sent_tokenize(text)\n",
    "print(a)\n",
    "\n",
    "a = word_tokenize(text)\n",
    "print(a)"
   ]
  },
  {
   "cell_type": "code",
   "execution_count": 9,
   "id": "304bbbb6-c661-4716-8656-2fa439a340ea",
   "metadata": {},
   "outputs": [
    {
     "name": "stdout",
     "output_type": "stream",
     "text": [
      "play\n",
      "play\n",
      "play\n",
      "inscres\n"
     ]
    }
   ],
   "source": [
    "## stemming\n",
    "\n",
    "from nltk.stem import PorterStemmer\n",
    "\n",
    "stemmer = PorterStemmer()\n",
    "print(stemmer.stem('playing'))\n",
    "print(stemmer.stem('plays'))\n",
    "print(stemmer.stem('played'))\n",
    "\n",
    "print(stemmer.stem('inscreses'))"
   ]
  },
  {
   "cell_type": "code",
   "execution_count": 10,
   "id": "8de1c68d-754a-4c6b-ad59-7fce9ca41432",
   "metadata": {},
   "outputs": [
    {
     "name": "stdout",
     "output_type": "stream",
     "text": [
      "increase\n",
      "run\n"
     ]
    }
   ],
   "source": [
    "from nltk.stem import WordNetLemmatizer\n",
    "lemm = WordNetLemmatizer()\n",
    "\n",
    "print(lemm.lemmatize('increase'))\n",
    "print(lemm.lemmatize('running',pos = 'v'))"
   ]
  },
  {
   "cell_type": "code",
   "execution_count": 11,
   "id": "882f26a1-981f-4973-a924-50fd7949f8f5",
   "metadata": {},
   "outputs": [
    {
     "data": {
      "text/plain": [
       "[('Hi', 'NNP'),\n",
       " ('John', 'NNP'),\n",
       " (',', ','),\n",
       " ('How', 'NNP'),\n",
       " ('are', 'VBP'),\n",
       " ('you', 'PRP'),\n",
       " ('doing', 'VBG'),\n",
       " ('?', '.'),\n",
       " ('I', 'PRP'),\n",
       " ('will', 'MD'),\n",
       " ('be', 'VB'),\n",
       " ('travelling', 'VBG'),\n",
       " ('to', 'TO'),\n",
       " ('your', 'PRP$'),\n",
       " ('city', 'NN'),\n",
       " ('.', '.'),\n",
       " ('Lets', 'VBZ'),\n",
       " ('Catchup', 'NNP')]"
      ]
     },
     "execution_count": 11,
     "metadata": {},
     "output_type": "execute_result"
    }
   ],
   "source": [
    "from nltk import pos_tag\n",
    "\n",
    "text = 'Hi John, How are you doing ? I will be travelling to your city. Lets Catchup'\n",
    "tokens = word_tokenize(text)\n",
    "pos_tag(tokens)"
   ]
  },
  {
   "cell_type": "code",
   "execution_count": 13,
   "id": "b46f051d-5cb4-4486-bc71-c435500c14fc",
   "metadata": {},
   "outputs": [
    {
     "data": {
      "text/plain": [
       "[Synset('computer.n.01'), Synset('calculator.n.01')]"
      ]
     },
     "execution_count": 13,
     "metadata": {},
     "output_type": "execute_result"
    }
   ],
   "source": [
    "from nltk.corpus import wordnet\n",
    "\n",
    "wordnet.synsets('computer')"
   ]
  },
  {
   "cell_type": "code",
   "execution_count": 15,
   "id": "d81e572a-8f3a-447c-985b-9686e1b42375",
   "metadata": {},
   "outputs": [
    {
     "name": "stdout",
     "output_type": "stream",
     "text": [
      "('I', 'love')\n",
      "('love', 'to')\n",
      "('to', 'play')\n",
      "('play', 'football')\n"
     ]
    }
   ],
   "source": [
    "from nltk import ngrams\n",
    "\n",
    "sentence = 'I love to play football'\n",
    "\n",
    "n = 2\n",
    "for gram in ngrams(word_tokenize(sentence),n):\n",
    "    print(gram)"
   ]
  },
  {
   "cell_type": "code",
   "execution_count": null,
   "id": "dbe0782a-60cf-4c25-8619-176c563b78f4",
   "metadata": {},
   "outputs": [],
   "source": []
  }
 ],
 "metadata": {
  "kernelspec": {
   "display_name": "Python 3",
   "language": "python",
   "name": "python3"
  },
  "language_info": {
   "codemirror_mode": {
    "name": "ipython",
    "version": 3
   },
   "file_extension": ".py",
   "mimetype": "text/x-python",
   "name": "python",
   "nbconvert_exporter": "python",
   "pygments_lexer": "ipython3",
   "version": "3.9.2"
  }
 },
 "nbformat": 4,
 "nbformat_minor": 5
}
