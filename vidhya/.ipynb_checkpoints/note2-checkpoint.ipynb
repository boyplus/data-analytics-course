{
 "cells": [
  {
   "cell_type": "code",
   "execution_count": 1,
   "id": "a8b87733-2daf-4ddd-90f3-22c7d74d776d",
   "metadata": {},
   "outputs": [
    {
     "name": "stdout",
     "output_type": "stream",
     "text": [
      "hello\n"
     ]
    }
   ],
   "source": [
    "from nltk.tokenize import sent_tokenize\n",
    "text = 'Hi John, How are you doing ? I will be travelling to your city. Lets Catchup'"
   ]
  },
  {
   "cell_type": "code",
   "execution_count": null,
   "id": "304bbbb6-c661-4716-8656-2fa439a340ea",
   "metadata": {},
   "outputs": [],
   "source": []
  }
 ],
 "metadata": {
  "kernelspec": {
   "display_name": "Python 3",
   "language": "python",
   "name": "python3"
  },
  "language_info": {
   "codemirror_mode": {
    "name": "ipython",
    "version": 3
   },
   "file_extension": ".py",
   "mimetype": "text/x-python",
   "name": "python",
   "nbconvert_exporter": "python",
   "pygments_lexer": "ipython3",
   "version": "3.9.2"
  }
 },
 "nbformat": 4,
 "nbformat_minor": 5
}
