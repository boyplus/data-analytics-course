{
 "cells": [
  {
   "cell_type": "code",
   "execution_count": 4,
   "id": "guilty-wireless",
   "metadata": {},
   "outputs": [
    {
     "name": "stdout",
     "output_type": "stream",
     "text": [
      "tiger\n"
     ]
    }
   ],
   "source": [
    "import re\n",
    "string = \"tiger is the national animal of india\"\n",
    "pattern = \"tiger\"\n",
    "pattern2 = \"lion\"\n",
    "\n",
    "mo = re.match(pattern,string)\n",
    "print(mo)"
   ]
  },
  {
   "cell_type": "code",
   "execution_count": 6,
   "id": "specialized-identity",
   "metadata": {},
   "outputs": [
    {
     "name": "stdout",
     "output_type": "stream",
     "text": [
      "<re.Match object; span=(13, 21), match='national'>\n",
      "national\n"
     ]
    }
   ],
   "source": [
    "string = \"tiger is the national animal of india\"\n",
    "pattern = \"national\"\n",
    "\n",
    "mo = re.search(pattern,string)\n",
    "print(mo)\n",
    "print(mo.group(0))"
   ]
  },
  {
   "cell_type": "code",
   "execution_count": 7,
   "id": "colonial-finger",
   "metadata": {},
   "outputs": [
    {
     "name": "stdout",
     "output_type": "stream",
     "text": [
      "['national', 'national']\n"
     ]
    }
   ],
   "source": [
    "string = \"tiger is the national animal of india and national sport is hockey\"\n",
    "pattern = \"national\"\n",
    "\n",
    "mo = re.findall(pattern,string)\n",
    "print(mo)"
   ]
  },
  {
   "cell_type": "code",
   "execution_count": 8,
   "id": "minimal-portable",
   "metadata": {},
   "outputs": [
    {
     "name": "stdout",
     "output_type": "stream",
     "text": [
      "13\n",
      "42\n"
     ]
    }
   ],
   "source": [
    "mo = re.finditer(pattern,string)\n",
    "for m in mo:\n",
    "    print(m.start())"
   ]
  },
  {
   "cell_type": "code",
   "execution_count": 11,
   "id": "suited-estate",
   "metadata": {},
   "outputs": [
    {
     "name": "stdout",
     "output_type": "stream",
     "text": [
      "['12-09-1992', '15-12-1999']\n"
     ]
    }
   ],
   "source": [
    "string = \"Ron was born on 12-09-1992 and he was adimtted to school on 15-12-1999\"\n",
    "pattern = \"\\d{2}-\\d{2}-\\d{4}\"\n",
    "\n",
    "mo = re.findall(pattern,string)\n",
    "print(mo)"
   ]
  },
  {
   "cell_type": "code",
   "execution_count": 12,
   "id": "latest-meditation",
   "metadata": {},
   "outputs": [
    {
     "name": "stdout",
     "output_type": "stream",
     "text": [
      "Ron was born on Monday and he was adimtted to school on Monday\n"
     ]
    }
   ],
   "source": [
    "print(re.sub(pattern,'Monday',string))\n"
   ]
  },
  {
   "cell_type": "code",
   "execution_count": null,
   "id": "accomplished-pottery",
   "metadata": {},
   "outputs": [],
   "source": []
  }
 ],
 "metadata": {
  "kernelspec": {
   "display_name": "Python 3",
   "language": "python",
   "name": "python3"
  },
  "language_info": {
   "codemirror_mode": {
    "name": "ipython",
    "version": 3
   },
   "file_extension": ".py",
   "mimetype": "text/x-python",
   "name": "python",
   "nbconvert_exporter": "python",
   "pygments_lexer": "ipython3",
   "version": "3.9.2"
  }
 },
 "nbformat": 4,
 "nbformat_minor": 5
}
